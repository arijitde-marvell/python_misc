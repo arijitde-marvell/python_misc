{
  "nbformat": 4,
  "nbformat_minor": 0,
  "metadata": {
    "kernelspec": {
      "display_name": "Python 3",
      "language": "python",
      "name": "python3"
    },
    "language_info": {
      "codemirror_mode": {
        "name": "ipython",
        "version": 3
      },
      "file_extension": ".py",
      "mimetype": "text/x-python",
      "name": "python",
      "nbconvert_exporter": "python",
      "pygments_lexer": "ipython3",
      "version": "3.7.4"
    },
    "colab": {
      "name": "python_miscellaneous.ipynb",
      "provenance": [],
      "collapsed_sections": [],
      "include_colab_link": true
    }
  },
  "cells": [
    {
      "cell_type": "markdown",
      "metadata": {
        "id": "view-in-github",
        "colab_type": "text"
      },
      "source": [
        "<a href=\"https://colab.research.google.com/github/arijitde-marvell/python_misc/blob/master/python_miscellaneous.ipynb\" target=\"_parent\"><img src=\"https://colab.research.google.com/assets/colab-badge.svg\" alt=\"Open In Colab\"/></a>"
      ]
    },
    {
      "cell_type": "code",
      "metadata": {
        "id": "2vLrNfJL7CE4",
        "colab_type": "code",
        "colab": {},
        "outputId": "419da214-6d57-408a-c52b-ccb6b3b2d156"
      },
      "source": [
        "#Merging two Dictionaries\n",
        "\n",
        "def Merge(dict1, dict2): \n",
        "    return(dict2.update(dict1)) \n",
        "      \n",
        "# Driver code \n",
        "dict1 = {'a': 10, 'b': 8} \n",
        "dict2 = {'d': 6, 'c': 4} \n",
        "  \n",
        "# This return None \n",
        "print(Merge(dict1, dict2)) \n",
        "  \n",
        "# changes made in dict2 \n",
        "print(dict2) "
      ],
      "execution_count": 0,
      "outputs": [
        {
          "output_type": "stream",
          "text": [
            "None\n",
            "{'d': 6, 'c': 4, 'a': 10, 'b': 8}\n"
          ],
          "name": "stdout"
        }
      ]
    },
    {
      "cell_type": "code",
      "metadata": {
        "id": "l6pUNhqd7CE_",
        "colab_type": "code",
        "colab": {}
      },
      "source": [
        ""
      ],
      "execution_count": 0,
      "outputs": []
    },
    {
      "cell_type": "code",
      "metadata": {
        "id": "cROKhPTD7CFE",
        "colab_type": "code",
        "colab": {}
      },
      "source": [
        "a = (\"John\", \"Charles\", \"Mike\")\n",
        "b = (\"Jenny\", \"Christy\", \"Monica\", \"Vicky\")\n",
        "\n",
        "x = zip(a, b)"
      ],
      "execution_count": 0,
      "outputs": []
    },
    {
      "cell_type": "code",
      "metadata": {
        "id": "3hV28OCZ7CFJ",
        "colab_type": "code",
        "colab": {},
        "outputId": "18ff9378-36fd-45cc-e919-60766601cac4"
      },
      "source": [
        "x"
      ],
      "execution_count": 0,
      "outputs": [
        {
          "output_type": "execute_result",
          "data": {
            "text/plain": [
              "<zip at 0x17219eba488>"
            ]
          },
          "metadata": {
            "tags": []
          },
          "execution_count": 3
        }
      ]
    },
    {
      "cell_type": "code",
      "metadata": {
        "id": "kBujOALX7CFO",
        "colab_type": "code",
        "colab": {},
        "outputId": "b1ac3973-e694-4a52-d6f0-90b842a43088"
      },
      "source": [
        "print(tuple(x))"
      ],
      "execution_count": 0,
      "outputs": [
        {
          "output_type": "stream",
          "text": [
            "(('John', 'Jenny'), ('Charles', 'Christy'), ('Mike', 'Monica'))\n"
          ],
          "name": "stdout"
        }
      ]
    },
    {
      "cell_type": "code",
      "metadata": {
        "id": "fBhMSS1s7CFS",
        "colab_type": "code",
        "colab": {}
      },
      "source": [
        ""
      ],
      "execution_count": 0,
      "outputs": []
    },
    {
      "cell_type": "code",
      "metadata": {
        "id": "y8VpVDhV7CFY",
        "colab_type": "code",
        "colab": {}
      },
      "source": [
        "# map function\n",
        "def is_even(num):\n",
        "    if num%2 == 0:\n",
        "        return 1 #even\n",
        "    else:\n",
        "        return 0 # odd\n"
      ],
      "execution_count": 0,
      "outputs": []
    },
    {
      "cell_type": "code",
      "metadata": {
        "id": "Ge6dcepu7CFd",
        "colab_type": "code",
        "colab": {},
        "outputId": "d3d7e362-c728-44c4-8790-82cb2dc4b21b"
      },
      "source": [
        "is_even(10)"
      ],
      "execution_count": 0,
      "outputs": [
        {
          "output_type": "execute_result",
          "data": {
            "text/plain": [
              "1"
            ]
          },
          "metadata": {
            "tags": []
          },
          "execution_count": 22
        }
      ]
    },
    {
      "cell_type": "code",
      "metadata": {
        "id": "Okbphwtw7CFg",
        "colab_type": "code",
        "colab": {}
      },
      "source": [
        "l=[2,3,5,7,8,9,12,3,4,56]"
      ],
      "execution_count": 0,
      "outputs": []
    },
    {
      "cell_type": "code",
      "metadata": {
        "id": "4P5WyFxU7CFk",
        "colab_type": "code",
        "colab": {},
        "outputId": "1c33ce0f-36a9-4965-fd7b-65ea427c1893"
      },
      "source": [
        "map(is_even, l) # this is still a lazy memory allocation, to print map contents make a list "
      ],
      "execution_count": 0,
      "outputs": [
        {
          "output_type": "execute_result",
          "data": {
            "text/plain": [
              "<map at 0x1721b4bf988>"
            ]
          },
          "metadata": {
            "tags": []
          },
          "execution_count": 27
        }
      ]
    },
    {
      "cell_type": "code",
      "metadata": {
        "id": "CFW5js8j7CFo",
        "colab_type": "code",
        "colab": {},
        "outputId": "190b22e9-3802-4f54-e41f-38693ab3698d"
      },
      "source": [
        "list(map(is_even, l))"
      ],
      "execution_count": 0,
      "outputs": [
        {
          "output_type": "execute_result",
          "data": {
            "text/plain": [
              "[1, 0, 0, 0, 1, 0, 1, 0, 1, 1]"
            ]
          },
          "metadata": {
            "tags": []
          },
          "execution_count": 28
        }
      ]
    },
    {
      "cell_type": "code",
      "metadata": {
        "id": "KdINm_dO7CFs",
        "colab_type": "code",
        "colab": {}
      },
      "source": [
        ""
      ],
      "execution_count": 0,
      "outputs": []
    },
    {
      "cell_type": "code",
      "metadata": {
        "id": "RmZXxiq37CFy",
        "colab_type": "code",
        "colab": {},
        "outputId": "3d5f313c-af59-498e-b516-7ff9663467cc"
      },
      "source": [
        "import matplotlib.pyplot as plt\n",
        "import pandas as pd"
      ],
      "execution_count": 0,
      "outputs": [
        {
          "output_type": "stream",
          "text": [
            "C:\\Users\\arijit\\AppData\\Local\\Continuum\\anaconda3\\lib\\importlib\\_bootstrap.py:219: RuntimeWarning: numpy.ufunc size changed, may indicate binary incompatibility. Expected 192 from C header, got 216 from PyObject\n",
            "  return f(*args, **kwds)\n"
          ],
          "name": "stderr"
        }
      ]
    },
    {
      "cell_type": "code",
      "metadata": {
        "id": "CHWKERlP7CF3",
        "colab_type": "code",
        "colab": {},
        "outputId": "83c176ab-8a43-4dc1-9a6e-2c6d7ec337bc"
      },
      "source": [
        "data=pd.Series(['a','b','c','d','a','e','c','f']).value_counts()\n",
        "data"
      ],
      "execution_count": 0,
      "outputs": [
        {
          "output_type": "execute_result",
          "data": {
            "text/plain": [
              "c    2\n",
              "a    2\n",
              "b    1\n",
              "d    1\n",
              "f    1\n",
              "e    1\n",
              "dtype: int64"
            ]
          },
          "metadata": {
            "tags": []
          },
          "execution_count": 65
        }
      ]
    },
    {
      "cell_type": "code",
      "metadata": {
        "id": "hlggvTeE7CF6",
        "colab_type": "code",
        "colab": {},
        "outputId": "8de218f5-0b84-4054-85b6-8a2352b4c4aa"
      },
      "source": [
        "fig = plt.figure(figsize=(2, 2), dpi=100) # figsize-width,height"
      ],
      "execution_count": 0,
      "outputs": [
        {
          "output_type": "display_data",
          "data": {
            "text/plain": [
              "<Figure size 200x200 with 0 Axes>"
            ]
          },
          "metadata": {
            "tags": []
          }
        }
      ]
    },
    {
      "cell_type": "code",
      "metadata": {
        "id": "JDQSDCMZ7CF9",
        "colab_type": "code",
        "colab": {},
        "outputId": "bec0eef1-65c8-4366-b4ee-1f4f0a364ed2"
      },
      "source": [
        "plt.title('Target Distribution')\n",
        "data.plot.bar()\n",
        "plt.show()"
      ],
      "execution_count": 0,
      "outputs": [
        {
          "output_type": "display_data",
          "data": {
            "image/png": "[encoded data removed]",
            "text/plain": [
              "<Figure size 432x288 with 1 Axes>"
            ]
          },
          "metadata": {
            "tags": [],
            "needs_background": "light"
          }
        }
      ]
    },
    {
      "cell_type": "code",
      "metadata": {
        "id": "Ybuj9LDq7CGA",
        "colab_type": "code",
        "colab": {},
        "outputId": "3dc97b3d-fd9d-474a-d840-f36a2fa1e0aa"
      },
      "source": [
        "plt.title('Target Distribution')\n",
        "data.plot.bar()\n",
        "\n",
        "plt.legend(['A simple line'])\n",
        "plt.show()"
      ],
      "execution_count": 0,
      "outputs": [
        {
          "output_type": "display_data",
          "data": {
            "image/png": "[encoded data removed]",
            "text/plain": [
              "<Figure size 432x288 with 1 Axes>"
            ]
          },
          "metadata": {
            "tags": [],
            "needs_background": "light"
          }
        }
      ]
    },
    {
      "cell_type": "code",
      "metadata": {
        "id": "yVdK1nWM7CGE",
        "colab_type": "code",
        "colab": {}
      },
      "source": [
        ""
      ],
      "execution_count": 0,
      "outputs": []
    },
    {
      "cell_type": "markdown",
      "metadata": {
        "id": "mgf55UE77CGK",
        "colab_type": "text"
      },
      "source": [
        "***pyspark***\n",
        "\n",
        "pandas:\n",
        "works ok up to 5GB of data\n",
        "for 5 to 30 GB we can use chunk size"
      ]
    },
    {
      "cell_type": "code",
      "metadata": {
        "id": "lWQDO7kF7CGM",
        "colab_type": "code",
        "colab": {}
      },
      "source": [
        "import pandas as pd"
      ],
      "execution_count": 0,
      "outputs": []
    },
    {
      "cell_type": "code",
      "metadata": {
        "id": "ydGdRWN57CGP",
        "colab_type": "code",
        "colab": {},
        "outputId": "b3daf8aa-24a4-404a-c1f4-42234e62d498"
      },
      "source": [
        "data=pd.read_csv('car_evaluation.csv')\n",
        "data.head()"
      ],
      "execution_count": 0,
      "outputs": [
        {
          "output_type": "execute_result",
          "data": {
            "text/html": [
              "<div>\n",
              "<style scoped>\n",
              "    .dataframe tbody tr th:only-of-type {\n",
              "        vertical-align: middle;\n",
              "    }\n",
              "\n",
              "    .dataframe tbody tr th {\n",
              "        vertical-align: top;\n",
              "    }\n",
              "\n",
              "    .dataframe thead th {\n",
              "        text-align: right;\n",
              "    }\n",
              "</style>\n",
              "<table border=\"1\" class=\"dataframe\">\n",
              "  <thead>\n",
              "    <tr style=\"text-align: right;\">\n",
              "      <th></th>\n",
              "      <th>buying</th>\n",
              "      <th>maint</th>\n",
              "      <th>doors</th>\n",
              "      <th>persons</th>\n",
              "      <th>lug_boot</th>\n",
              "      <th>safety</th>\n",
              "      <th>outcome</th>\n",
              "    </tr>\n",
              "  </thead>\n",
              "  <tbody>\n",
              "    <tr>\n",
              "      <td>0</td>\n",
              "      <td>vhigh</td>\n",
              "      <td>vhigh</td>\n",
              "      <td>2</td>\n",
              "      <td>2</td>\n",
              "      <td>small</td>\n",
              "      <td>low</td>\n",
              "      <td>unacc</td>\n",
              "    </tr>\n",
              "    <tr>\n",
              "      <td>1</td>\n",
              "      <td>vhigh</td>\n",
              "      <td>vhigh</td>\n",
              "      <td>2</td>\n",
              "      <td>2</td>\n",
              "      <td>small</td>\n",
              "      <td>med</td>\n",
              "      <td>unacc</td>\n",
              "    </tr>\n",
              "    <tr>\n",
              "      <td>2</td>\n",
              "      <td>vhigh</td>\n",
              "      <td>vhigh</td>\n",
              "      <td>2</td>\n",
              "      <td>2</td>\n",
              "      <td>small</td>\n",
              "      <td>high</td>\n",
              "      <td>unacc</td>\n",
              "    </tr>\n",
              "    <tr>\n",
              "      <td>3</td>\n",
              "      <td>vhigh</td>\n",
              "      <td>vhigh</td>\n",
              "      <td>2</td>\n",
              "      <td>2</td>\n",
              "      <td>med</td>\n",
              "      <td>low</td>\n",
              "      <td>unacc</td>\n",
              "    </tr>\n",
              "    <tr>\n",
              "      <td>4</td>\n",
              "      <td>vhigh</td>\n",
              "      <td>vhigh</td>\n",
              "      <td>2</td>\n",
              "      <td>2</td>\n",
              "      <td>med</td>\n",
              "      <td>med</td>\n",
              "      <td>unacc</td>\n",
              "    </tr>\n",
              "  </tbody>\n",
              "</table>\n",
              "</div>"
            ],
            "text/plain": [
              "  buying  maint  doors  persons lug_boot safety outcome\n",
              "0  vhigh  vhigh      2        2    small    low   unacc\n",
              "1  vhigh  vhigh      2        2    small    med   unacc\n",
              "2  vhigh  vhigh      2        2    small   high   unacc\n",
              "3  vhigh  vhigh      2        2      med    low   unacc\n",
              "4  vhigh  vhigh      2        2      med    med   unacc"
            ]
          },
          "metadata": {
            "tags": []
          },
          "execution_count": 4
        }
      ]
    },
    {
      "cell_type": "code",
      "metadata": {
        "id": "3-cPUyAd7CGS",
        "colab_type": "code",
        "colab": {},
        "outputId": "d0297f51-0e7f-4a53-97d4-157ef7d6d5f4"
      },
      "source": [
        "data.shape"
      ],
      "execution_count": 0,
      "outputs": [
        {
          "output_type": "execute_result",
          "data": {
            "text/plain": [
              "(1728, 7)"
            ]
          },
          "metadata": {
            "tags": []
          },
          "execution_count": 5
        }
      ]
    },
    {
      "cell_type": "code",
      "metadata": {
        "id": "7nea_Ged7CGV",
        "colab_type": "code",
        "colab": {},
        "outputId": "fae3a768-c6c1-448a-80b4-63badfb8f9db"
      },
      "source": [
        "# load the big file in smaller chunks\n",
        "c_size = 500 # Here the chunk size 500 means, we will be reading 500 lines at a time.\n",
        "for gm_chunk in pd.read_csv('car_evaluation.csv',chunksize=c_size):\n",
        "    print(gm_chunk.shape)\n"
      ],
      "execution_count": 0,
      "outputs": [
        {
          "output_type": "stream",
          "text": [
            "(500, 7)\n",
            "(500, 7)\n",
            "(500, 7)\n",
            "(228, 7)\n"
          ],
          "name": "stdout"
        }
      ]
    },
    {
      "cell_type": "markdown",
      "metadata": {
        "id": "682wJFqJ7CGZ",
        "colab_type": "text"
      },
      "source": [
        "**here the problem is if while loading a huge data if any error is encountered then pandas does not give any error.**\n",
        "\n",
        "\n",
        "**if the data size goes above 100G , then dask can be used**\n",
        "# dask\n",
        "it has a inbuild parallel processing capability"
      ]
    },
    {
      "cell_type": "code",
      "metadata": {
        "id": "_AjYs3Q77CGZ",
        "colab_type": "code",
        "colab": {}
      },
      "source": [
        "import dask.array as da # 'da' has all the properties of numpy"
      ],
      "execution_count": 0,
      "outputs": []
    },
    {
      "cell_type": "code",
      "metadata": {
        "id": "hSWl9ehv7CGd",
        "colab_type": "code",
        "colab": {}
      },
      "source": [
        "# this gets generated in no time\n",
        "a = da.random.randint(low=0, high=100, size=100000000).reshape(10000, 10000)"
      ],
      "execution_count": 0,
      "outputs": []
    },
    {
      "cell_type": "code",
      "metadata": {
        "id": "aTqiXrf27CGg",
        "colab_type": "code",
        "colab": {},
        "outputId": "15f3f9e9-6264-45dc-87f9-e0e05d5ba11d"
      },
      "source": [
        "type(a)"
      ],
      "execution_count": 0,
      "outputs": [
        {
          "output_type": "execute_result",
          "data": {
            "text/plain": [
              "dask.array.core.Array"
            ]
          },
          "metadata": {
            "tags": []
          },
          "execution_count": 17
        }
      ]
    },
    {
      "cell_type": "code",
      "metadata": {
        "id": "j2GRyUg47CGk",
        "colab_type": "code",
        "colab": {},
        "outputId": "9eaee2de-5a9d-43b2-c44c-8ece104f053d"
      },
      "source": [
        "a"
      ],
      "execution_count": 0,
      "outputs": [
        {
          "output_type": "execute_result",
          "data": {
            "text/html": [
              "<table>\n",
              "<tr>\n",
              "<td>\n",
              "<table>\n",
              "  <thead>\n",
              "    <tr><td> </td><th> Array </th><th> Chunk </th></tr>\n",
              "  </thead>\n",
              "  <tbody>\n",
              "    <tr><th> Bytes </th><td> 400.00 MB </td> <td> 100.00 MB </td></tr>\n",
              "    <tr><th> Shape </th><td> (10000, 10000) </td> <td> (2500, 10000) </td></tr>\n",
              "    <tr><th> Count </th><td> 8 Tasks </td><td> 4 Chunks </td></tr>\n",
              "    <tr><th> Type </th><td> int32 </td><td> numpy.ndarray </td></tr>\n",
              "  </tbody>\n",
              "</table>\n",
              "</td>\n",
              "<td>\n",
              "<svg width=\"170\" height=\"170\" style=\"stroke:rgb(0,0,0);stroke-width:1\" >\n",
              "\n",
              "  <!-- Horizontal lines -->\n",
              "  <line x1=\"0\" y1=\"0\" x2=\"120\" y2=\"0\" style=\"stroke-width:2\" />\n",
              "  <line x1=\"0\" y1=\"30\" x2=\"120\" y2=\"30\" />\n",
              "  <line x1=\"0\" y1=\"60\" x2=\"120\" y2=\"60\" />\n",
              "  <line x1=\"0\" y1=\"90\" x2=\"120\" y2=\"90\" />\n",
              "  <line x1=\"0\" y1=\"120\" x2=\"120\" y2=\"120\" style=\"stroke-width:2\" />\n",
              "\n",
              "  <!-- Vertical lines -->\n",
              "  <line x1=\"0\" y1=\"0\" x2=\"0\" y2=\"120\" style=\"stroke-width:2\" />\n",
              "  <line x1=\"120\" y1=\"0\" x2=\"120\" y2=\"120\" style=\"stroke-width:2\" />\n",
              "\n",
              "  <!-- Colored Rectangle -->\n",
              "  <polygon points=\"0.000000,0.000000 120.000000,0.000000 120.000000,120.000000 0.000000,120.000000\" style=\"fill:#ECB172A0;stroke-width:0\"/>\n",
              "\n",
              "  <!-- Text -->\n",
              "  <text x=\"60.000000\" y=\"140.000000\" font-size=\"1.0rem\" font-weight=\"100\" text-anchor=\"middle\" >10000</text>\n",
              "  <text x=\"140.000000\" y=\"60.000000\" font-size=\"1.0rem\" font-weight=\"100\" text-anchor=\"middle\" transform=\"rotate(-90,140.000000,60.000000)\">10000</text>\n",
              "</svg>\n",
              "</td>\n",
              "</tr>\n",
              "</table>"
            ],
            "text/plain": [
              "dask.array<reshape, shape=(10000, 10000), dtype=int32, chunksize=(2500, 10000), chunktype=numpy.ndarray>"
            ]
          },
          "metadata": {
            "tags": []
          },
          "execution_count": 18
        }
      ]
    },
    {
      "cell_type": "code",
      "metadata": {
        "id": "XNSEMZ467CGp",
        "colab_type": "code",
        "colab": {},
        "outputId": "176a914e-ba01-4127-a717-09aca10c88aa"
      },
      "source": [
        "a.compute()"
      ],
      "execution_count": 0,
      "outputs": [
        {
          "output_type": "execute_result",
          "data": {
            "text/plain": [
              "array([[68, 51, 58, ..., 45, 28, 93],\n",
              "       [69, 29,  3, ..., 20, 93, 50],\n",
              "       [74, 24,  5, ...,  0,  0,  8],\n",
              "       ...,\n",
              "       [60, 60, 65, ..., 80, 83, 39],\n",
              "       [95, 68, 15, ..., 20, 92, 26],\n",
              "       [64, 57, 11, ..., 62, 90, 67]])"
            ]
          },
          "metadata": {
            "tags": []
          },
          "execution_count": 19
        }
      ]
    },
    {
      "cell_type": "code",
      "metadata": {
        "id": "8qQBmK3R7CGr",
        "colab_type": "code",
        "colab": {}
      },
      "source": [
        "# we can create Dataframe using dask\n",
        "import dask.dataframe as dd"
      ],
      "execution_count": 0,
      "outputs": []
    },
    {
      "cell_type": "code",
      "metadata": {
        "id": "9dp8zrUk7CGu",
        "colab_type": "code",
        "colab": {},
        "outputId": "89c5e067-3b08-4820-e61a-85f4257e8363"
      },
      "source": [
        "data= dd.read_csv('car_evaluation.csv')\n",
        "data.compute()"
      ],
      "execution_count": 0,
      "outputs": [
        {
          "output_type": "execute_result",
          "data": {
            "text/html": [
              "<div>\n",
              "<style scoped>\n",
              "    .dataframe tbody tr th:only-of-type {\n",
              "        vertical-align: middle;\n",
              "    }\n",
              "\n",
              "    .dataframe tbody tr th {\n",
              "        vertical-align: top;\n",
              "    }\n",
              "\n",
              "    .dataframe thead th {\n",
              "        text-align: right;\n",
              "    }\n",
              "</style>\n",
              "<table border=\"1\" class=\"dataframe\">\n",
              "  <thead>\n",
              "    <tr style=\"text-align: right;\">\n",
              "      <th></th>\n",
              "      <th>buying</th>\n",
              "      <th>maint</th>\n",
              "      <th>doors</th>\n",
              "      <th>persons</th>\n",
              "      <th>lug_boot</th>\n",
              "      <th>safety</th>\n",
              "      <th>outcome</th>\n",
              "    </tr>\n",
              "  </thead>\n",
              "  <tbody>\n",
              "    <tr>\n",
              "      <td>0</td>\n",
              "      <td>vhigh</td>\n",
              "      <td>vhigh</td>\n",
              "      <td>2</td>\n",
              "      <td>2</td>\n",
              "      <td>small</td>\n",
              "      <td>low</td>\n",
              "      <td>unacc</td>\n",
              "    </tr>\n",
              "    <tr>\n",
              "      <td>1</td>\n",
              "      <td>vhigh</td>\n",
              "      <td>vhigh</td>\n",
              "      <td>2</td>\n",
              "      <td>2</td>\n",
              "      <td>small</td>\n",
              "      <td>med</td>\n",
              "      <td>unacc</td>\n",
              "    </tr>\n",
              "    <tr>\n",
              "      <td>2</td>\n",
              "      <td>vhigh</td>\n",
              "      <td>vhigh</td>\n",
              "      <td>2</td>\n",
              "      <td>2</td>\n",
              "      <td>small</td>\n",
              "      <td>high</td>\n",
              "      <td>unacc</td>\n",
              "    </tr>\n",
              "    <tr>\n",
              "      <td>3</td>\n",
              "      <td>vhigh</td>\n",
              "      <td>vhigh</td>\n",
              "      <td>2</td>\n",
              "      <td>2</td>\n",
              "      <td>med</td>\n",
              "      <td>low</td>\n",
              "      <td>unacc</td>\n",
              "    </tr>\n",
              "    <tr>\n",
              "      <td>4</td>\n",
              "      <td>vhigh</td>\n",
              "      <td>vhigh</td>\n",
              "      <td>2</td>\n",
              "      <td>2</td>\n",
              "      <td>med</td>\n",
              "      <td>med</td>\n",
              "      <td>unacc</td>\n",
              "    </tr>\n",
              "    <tr>\n",
              "      <td>...</td>\n",
              "      <td>...</td>\n",
              "      <td>...</td>\n",
              "      <td>...</td>\n",
              "      <td>...</td>\n",
              "      <td>...</td>\n",
              "      <td>...</td>\n",
              "      <td>...</td>\n",
              "    </tr>\n",
              "    <tr>\n",
              "      <td>1723</td>\n",
              "      <td>low</td>\n",
              "      <td>low</td>\n",
              "      <td>5</td>\n",
              "      <td>5</td>\n",
              "      <td>med</td>\n",
              "      <td>med</td>\n",
              "      <td>good</td>\n",
              "    </tr>\n",
              "    <tr>\n",
              "      <td>1724</td>\n",
              "      <td>low</td>\n",
              "      <td>low</td>\n",
              "      <td>5</td>\n",
              "      <td>5</td>\n",
              "      <td>med</td>\n",
              "      <td>high</td>\n",
              "      <td>vgood</td>\n",
              "    </tr>\n",
              "    <tr>\n",
              "      <td>1725</td>\n",
              "      <td>low</td>\n",
              "      <td>low</td>\n",
              "      <td>5</td>\n",
              "      <td>5</td>\n",
              "      <td>big</td>\n",
              "      <td>low</td>\n",
              "      <td>unacc</td>\n",
              "    </tr>\n",
              "    <tr>\n",
              "      <td>1726</td>\n",
              "      <td>low</td>\n",
              "      <td>low</td>\n",
              "      <td>5</td>\n",
              "      <td>5</td>\n",
              "      <td>big</td>\n",
              "      <td>med</td>\n",
              "      <td>good</td>\n",
              "    </tr>\n",
              "    <tr>\n",
              "      <td>1727</td>\n",
              "      <td>low</td>\n",
              "      <td>low</td>\n",
              "      <td>5</td>\n",
              "      <td>5</td>\n",
              "      <td>big</td>\n",
              "      <td>high</td>\n",
              "      <td>vgood</td>\n",
              "    </tr>\n",
              "  </tbody>\n",
              "</table>\n",
              "<p>1728 rows × 7 columns</p>\n",
              "</div>"
            ],
            "text/plain": [
              "     buying  maint  doors  persons lug_boot safety outcome\n",
              "0     vhigh  vhigh      2        2    small    low   unacc\n",
              "1     vhigh  vhigh      2        2    small    med   unacc\n",
              "2     vhigh  vhigh      2        2    small   high   unacc\n",
              "3     vhigh  vhigh      2        2      med    low   unacc\n",
              "4     vhigh  vhigh      2        2      med    med   unacc\n",
              "...     ...    ...    ...      ...      ...    ...     ...\n",
              "1723    low    low      5        5      med    med    good\n",
              "1724    low    low      5        5      med   high   vgood\n",
              "1725    low    low      5        5      big    low   unacc\n",
              "1726    low    low      5        5      big    med    good\n",
              "1727    low    low      5        5      big   high   vgood\n",
              "\n",
              "[1728 rows x 7 columns]"
            ]
          },
          "metadata": {
            "tags": []
          },
          "execution_count": 21
        }
      ]
    },
    {
      "cell_type": "markdown",
      "metadata": {
        "id": "cOxUH7Ut7CG8",
        "colab_type": "text"
      },
      "source": [
        "**Using dask we can probably manage upto 200GB of data**"
      ]
    },
    {
      "cell_type": "markdown",
      "metadata": {
        "id": "gNhoQYRf7CG8",
        "colab_type": "text"
      },
      "source": [
        "**if we have TB's of data** 100GB - 1TB, 1000TB - 1PB \n",
        "\n",
        "**we have to use spark, pyspark** - it provides a bigdata solution"
      ]
    },
    {
      "cell_type": "code",
      "metadata": {
        "id": "1jbMTRt97ShS",
        "colab_type": "code",
        "colab": {
          "base_uri": "https://localhost:8080/",
          "height": 263
        },
        "outputId": "a29ddc1a-a954-4363-adaf-afcece5508c9"
      },
      "source": [
        "!pip install pyspark"
      ],
      "execution_count": 2,
      "outputs": [
        {
          "output_type": "stream",
          "text": [
            "Collecting pyspark\n",
            "\u001b[?25l  Downloading https://files.pythonhosted.org/packages/9a/5a/271c416c1c2185b6cb0151b29a91fff6fcaed80173c8584ff6d20e46b465/pyspark-2.4.5.tar.gz (217.8MB)\n",
            "\u001b[K     |████████████████████████████████| 217.8MB 62kB/s \n",
            "\u001b[?25hCollecting py4j==0.10.7\n",
            "\u001b[?25l  Downloading https://files.pythonhosted.org/packages/e3/53/c737818eb9a7dc32a7cd4f1396e787bd94200c3997c72c1dbe028587bd76/py4j-0.10.7-py2.py3-none-any.whl (197kB)\n",
            "\u001b[K     |████████████████████████████████| 204kB 45.2MB/s \n",
            "\u001b[?25hBuilding wheels for collected packages: pyspark\n",
            "  Building wheel for pyspark (setup.py) ... \u001b[?25l\u001b[?25hdone\n",
            "  Created wheel for pyspark: filename=pyspark-2.4.5-py2.py3-none-any.whl size=218257927 sha256=57a06bbc31da85b2d04b7b7876dd5e9dcb5d992d06f677bbb6e430871eae2d89\n",
            "  Stored in directory: /root/.cache/pip/wheels/bf/db/04/61d66a5939364e756eb1c1be4ec5bdce6e04047fc7929a3c3c\n",
            "Successfully built pyspark\n",
            "Installing collected packages: py4j, pyspark\n",
            "Successfully installed py4j-0.10.7 pyspark-2.4.5\n"
          ],
          "name": "stdout"
        }
      ]
    },
    {
      "cell_type": "code",
      "metadata": {
        "id": "q1SyMuUc7CG9",
        "colab_type": "code",
        "colab": {}
      },
      "source": [
        "import pyspark as spark"
      ],
      "execution_count": 0,
      "outputs": []
    },
    {
      "cell_type": "code",
      "metadata": {
        "id": "sGTbUFRr7CHA",
        "colab_type": "code",
        "colab": {}
      },
      "source": [
        "from pyspark import SparkContext, SQLContext"
      ],
      "execution_count": 0,
      "outputs": []
    },
    {
      "cell_type": "code",
      "metadata": {
        "id": "zA3zkEBu7CHC",
        "colab_type": "code",
        "colab": {}
      },
      "source": [
        "sc = SparkContext()\n",
        "s = SQLContext(sc)"
      ],
      "execution_count": 0,
      "outputs": []
    },
    {
      "cell_type": "code",
      "metadata": {
        "id": "6Z4srDu_7CHF",
        "colab_type": "code",
        "colab": {
          "base_uri": "https://localhost:8080/",
          "height": 69
        },
        "outputId": "09ebca83-9b54-4811-a75b-1556a2370764"
      },
      "source": [
        "!ls sample_data"
      ],
      "execution_count": 8,
      "outputs": [
        {
          "output_type": "stream",
          "text": [
            "anscombe.json\t\t      mnist_test.csv\n",
            "california_housing_test.csv   mnist_train_small.csv\n",
            "california_housing_train.csv  README.md\n"
          ],
          "name": "stdout"
        }
      ]
    },
    {
      "cell_type": "code",
      "metadata": {
        "id": "7igt65Ay7CHI",
        "colab_type": "code",
        "colab": {}
      },
      "source": [
        "data = s.read.options(header=True).csv('sample_data/california_housing_train.csv')"
      ],
      "execution_count": 0,
      "outputs": []
    },
    {
      "cell_type": "code",
      "metadata": {
        "id": "ELb8rBj-9HrF",
        "colab_type": "code",
        "colab": {
          "base_uri": "https://localhost:8080/",
          "height": 488
        },
        "outputId": "8812a367-15fc-48cb-d3ff-1ffe3a863603"
      },
      "source": [
        "data.show()"
      ],
      "execution_count": 15,
      "outputs": [
        {
          "output_type": "stream",
          "text": [
            "+-----------+---------+------------------+-----------+--------------+-----------+-----------+-------------+------------------+\n",
            "|  longitude| latitude|housing_median_age|total_rooms|total_bedrooms| population| households|median_income|median_house_value|\n",
            "+-----------+---------+------------------+-----------+--------------+-----------+-----------+-------------+------------------+\n",
            "|-114.310000|34.190000|         15.000000|5612.000000|   1283.000000|1015.000000| 472.000000|     1.493600|      66900.000000|\n",
            "|-114.470000|34.400000|         19.000000|7650.000000|   1901.000000|1129.000000| 463.000000|     1.820000|      80100.000000|\n",
            "|-114.560000|33.690000|         17.000000| 720.000000|    174.000000| 333.000000| 117.000000|     1.650900|      85700.000000|\n",
            "|-114.570000|33.640000|         14.000000|1501.000000|    337.000000| 515.000000| 226.000000|     3.191700|      73400.000000|\n",
            "|-114.570000|33.570000|         20.000000|1454.000000|    326.000000| 624.000000| 262.000000|     1.925000|      65500.000000|\n",
            "|-114.580000|33.630000|         29.000000|1387.000000|    236.000000| 671.000000| 239.000000|     3.343800|      74000.000000|\n",
            "|-114.580000|33.610000|         25.000000|2907.000000|    680.000000|1841.000000| 633.000000|     2.676800|      82400.000000|\n",
            "|-114.590000|34.830000|         41.000000| 812.000000|    168.000000| 375.000000| 158.000000|     1.708300|      48500.000000|\n",
            "|-114.590000|33.610000|         34.000000|4789.000000|   1175.000000|3134.000000|1056.000000|     2.178200|      58400.000000|\n",
            "|-114.600000|34.830000|         46.000000|1497.000000|    309.000000| 787.000000| 271.000000|     2.190800|      48100.000000|\n",
            "|-114.600000|33.620000|         16.000000|3741.000000|    801.000000|2434.000000| 824.000000|     2.679700|      86500.000000|\n",
            "|-114.600000|33.600000|         21.000000|1988.000000|    483.000000|1182.000000| 437.000000|     1.625000|      62000.000000|\n",
            "|-114.610000|34.840000|         48.000000|1291.000000|    248.000000| 580.000000| 211.000000|     2.157100|      48600.000000|\n",
            "|-114.610000|34.830000|         31.000000|2478.000000|    464.000000|1346.000000| 479.000000|     3.212000|      70400.000000|\n",
            "|-114.630000|32.760000|         15.000000|1448.000000|    378.000000| 949.000000| 300.000000|     0.858500|      45000.000000|\n",
            "|-114.650000|34.890000|         17.000000|2556.000000|    587.000000|1005.000000| 401.000000|     1.699100|      69100.000000|\n",
            "|-114.650000|33.600000|         28.000000|1678.000000|    322.000000| 666.000000| 256.000000|     2.965300|      94900.000000|\n",
            "|-114.650000|32.790000|         21.000000|  44.000000|     33.000000|  64.000000|  27.000000|     0.857100|      25000.000000|\n",
            "|-114.660000|32.740000|         17.000000|1388.000000|    386.000000| 775.000000| 320.000000|     1.204900|      44000.000000|\n",
            "|-114.670000|33.920000|         17.000000|  97.000000|     24.000000|  29.000000|  15.000000|     1.265600|      27500.000000|\n",
            "+-----------+---------+------------------+-----------+--------------+-----------+-----------+-------------+------------------+\n",
            "only showing top 20 rows\n",
            "\n"
          ],
          "name": "stdout"
        }
      ]
    },
    {
      "cell_type": "code",
      "metadata": {
        "id": "hHtcFKa491s6",
        "colab_type": "code",
        "colab": {
          "base_uri": "https://localhost:8080/",
          "height": 208
        },
        "outputId": "79b5a150-bc49-4c99-ded0-3f07acb02fdf"
      },
      "source": [
        "# show columns\n",
        "data.select('total_bedrooms').show(5)"
      ],
      "execution_count": 17,
      "outputs": [
        {
          "output_type": "stream",
          "text": [
            "+--------------+\n",
            "|total_bedrooms|\n",
            "+--------------+\n",
            "|   1283.000000|\n",
            "|   1901.000000|\n",
            "|    174.000000|\n",
            "|    337.000000|\n",
            "|    326.000000|\n",
            "+--------------+\n",
            "only showing top 5 rows\n",
            "\n"
          ],
          "name": "stdout"
        }
      ]
    },
    {
      "cell_type": "code",
      "metadata": {
        "id": "SgQP92gm91rB",
        "colab_type": "code",
        "colab": {
          "base_uri": "https://localhost:8080/",
          "height": 208
        },
        "outputId": "23511673-b7be-46ce-ee6f-cb8a579af804"
      },
      "source": [
        "data.select(['total_bedrooms','population']).show(5)"
      ],
      "execution_count": 18,
      "outputs": [
        {
          "output_type": "stream",
          "text": [
            "+--------------+-----------+\n",
            "|total_bedrooms| population|\n",
            "+--------------+-----------+\n",
            "|   1283.000000|1015.000000|\n",
            "|   1901.000000|1129.000000|\n",
            "|    174.000000| 333.000000|\n",
            "|    337.000000| 515.000000|\n",
            "|    326.000000| 624.000000|\n",
            "+--------------+-----------+\n",
            "only showing top 5 rows\n",
            "\n"
          ],
          "name": "stdout"
        }
      ]
    },
    {
      "cell_type": "markdown",
      "metadata": {
        "id": "HatE9AcR-fJ1",
        "colab_type": "text"
      },
      "source": [
        "pyspark can process huge data without any limitation.\n",
        "It can readd SQL data, Hadoop hive etc."
      ]
    },
    {
      "cell_type": "code",
      "metadata": {
        "id": "qRaYcJVP91oY",
        "colab_type": "code",
        "colab": {}
      },
      "source": [
        ""
      ],
      "execution_count": 0,
      "outputs": []
    },
    {
      "cell_type": "code",
      "metadata": {
        "id": "3MfqdNkR91mT",
        "colab_type": "code",
        "colab": {}
      },
      "source": [
        ""
      ],
      "execution_count": 0,
      "outputs": []
    },
    {
      "cell_type": "code",
      "metadata": {
        "id": "iAluYAFw91jr",
        "colab_type": "code",
        "colab": {}
      },
      "source": [
        ""
      ],
      "execution_count": 0,
      "outputs": []
    },
    {
      "cell_type": "markdown",
      "metadata": {
        "id": "kv0Juc1Y7CHL",
        "colab_type": "text"
      },
      "source": [
        "**OOP**"
      ]
    },
    {
      "cell_type": "code",
      "metadata": {
        "id": "rs1iSoZf7CHM",
        "colab_type": "code",
        "colab": {}
      },
      "source": [
        "# empty class\n",
        "class car:\n",
        "    pass"
      ],
      "execution_count": 0,
      "outputs": []
    },
    {
      "cell_type": "code",
      "metadata": {
        "id": "12Q4VYtc7CHP",
        "colab_type": "code",
        "colab": {}
      },
      "source": [
        "class car:\n",
        "    # constructor\n",
        "    def __init__(self, model):\n",
        "        self.model = model\n",
        "        \n",
        "    def add_car(self, hp, price):\n",
        "        self.hp = hp\n",
        "        self.price = price\n",
        "        \n",
        "    def get_car(self):\n",
        "        return self.model, self.hp, self.price"
      ],
      "execution_count": 0,
      "outputs": []
    },
    {
      "cell_type": "code",
      "metadata": {
        "id": "PJHWZif87CHT",
        "colab_type": "code",
        "colab": {}
      },
      "source": [
        "car1 = car('maruti')"
      ],
      "execution_count": 0,
      "outputs": []
    },
    {
      "cell_type": "code",
      "metadata": {
        "id": "E_axvJMO7CHW",
        "colab_type": "code",
        "colab": {}
      },
      "source": [
        "car1.add_car(1200, 5)"
      ],
      "execution_count": 0,
      "outputs": []
    },
    {
      "cell_type": "code",
      "metadata": {
        "id": "GdJZJ2nm7CHb",
        "colab_type": "code",
        "colab": {},
        "outputId": "852fa468-3836-4c95-c007-7ed849cbe202"
      },
      "source": [
        "print(car1.get_car())"
      ],
      "execution_count": 0,
      "outputs": [
        {
          "output_type": "stream",
          "text": [
            "('maruti', 1200, 5)\n"
          ],
          "name": "stdout"
        }
      ]
    },
    {
      "cell_type": "code",
      "metadata": {
        "id": "SJnfGgXt7CHh",
        "colab_type": "code",
        "colab": {},
        "outputId": "8f43daee-ee94-4625-d935-6d94460a579d"
      },
      "source": [
        "car1.price"
      ],
      "execution_count": 0,
      "outputs": [
        {
          "output_type": "error",
          "ename": "NameError",
          "evalue": "name 'car1' is not defined",
          "traceback": [
            "\u001b[1;31m---------------------------------------------------------------------------\u001b[0m",
            "\u001b[1;31mNameError\u001b[0m                                 Traceback (most recent call last)",
            "\u001b[1;32m<ipython-input-57-883ece91b42d>\u001b[0m in \u001b[0;36m<module>\u001b[1;34m\u001b[0m\n\u001b[1;32m----> 1\u001b[1;33m \u001b[0mcar1\u001b[0m\u001b[1;33m.\u001b[0m\u001b[0mprice\u001b[0m\u001b[1;33m\u001b[0m\u001b[1;33m\u001b[0m\u001b[0m\n\u001b[0m",
            "\u001b[1;31mNameError\u001b[0m: name 'car1' is not defined"
          ]
        }
      ]
    },
    {
      "cell_type": "markdown",
      "metadata": {
        "id": "F4gSMT4z7CHk",
        "colab_type": "text"
      },
      "source": [
        ""
      ]
    },
    {
      "cell_type": "markdown",
      "metadata": {
        "id": "u98_45F-7CHk",
        "colab_type": "text"
      },
      "source": [
        "pdb (debugger)"
      ]
    },
    {
      "cell_type": "code",
      "metadata": {
        "id": "Crd6gjZs7CHl",
        "colab_type": "code",
        "colab": {}
      },
      "source": [
        "import pdb\n",
        "\n",
        "def cal_val(x):\n",
        "  x = x**3\n",
        "  pdb.set_trace() # breakpoint\n",
        "  return x"
      ],
      "execution_count": 0,
      "outputs": []
    },
    {
      "cell_type": "code",
      "metadata": {
        "id": "A2Qu0Wy97CHo",
        "colab_type": "code",
        "colab": {},
        "outputId": "01fed492-a022-46b4-ad94-5087c7b4be68"
      },
      "source": [
        "cal_val(3)"
      ],
      "execution_count": 0,
      "outputs": [
        {
          "output_type": "stream",
          "text": [
            "> <ipython-input-59-b925814294f8>(6)cal_val()\n",
            "-> return x\n"
          ],
          "name": "stdout"
        },
        {
          "output_type": "stream",
          "text": [
            "(Pdb)  h\n"
          ],
          "name": "stdin"
        },
        {
          "output_type": "stream",
          "text": [
            "\n",
            "Documented commands (type help <topic>):\n",
            "========================================\n",
            "EOF    c          d        h         list      q        rv       undisplay\n",
            "a      cl         debug    help      ll        quit     s        unt      \n",
            "alias  clear      disable  ignore    longlist  r        source   until    \n",
            "args   commands   display  interact  n         restart  step     up       \n",
            "b      condition  down     j         next      return   tbreak   w        \n",
            "break  cont       enable   jump      p         retval   u        whatis   \n",
            "bt     continue   exit     l         pp        run      unalias  where    \n",
            "\n",
            "Miscellaneous help topics:\n",
            "==========================\n",
            "exec  pdb\n",
            "\n"
          ],
          "name": "stdout"
        },
        {
          "output_type": "stream",
          "text": [
            "(Pdb)  p x\n"
          ],
          "name": "stdin"
        },
        {
          "output_type": "stream",
          "text": [
            "27\n"
          ],
          "name": "stdout"
        },
        {
          "output_type": "stream",
          "text": [
            "(Pdb)  continiue\n"
          ],
          "name": "stdin"
        },
        {
          "output_type": "stream",
          "text": [
            "*** NameError: name 'continiue' is not defined\n"
          ],
          "name": "stdout"
        },
        {
          "output_type": "stream",
          "text": [
            "(Pdb)  continue\n"
          ],
          "name": "stdin"
        },
        {
          "output_type": "execute_result",
          "data": {
            "text/plain": [
              "27"
            ]
          },
          "metadata": {
            "tags": []
          },
          "execution_count": 60
        }
      ]
    },
    {
      "cell_type": "code",
      "metadata": {
        "id": "ea5cAJbe7CHt",
        "colab_type": "code",
        "colab": {}
      },
      "source": [
        ""
      ],
      "execution_count": 0,
      "outputs": []
    },
    {
      "cell_type": "code",
      "metadata": {
        "id": "Q-WlR7sw7CH2",
        "colab_type": "code",
        "colab": {}
      },
      "source": [
        ""
      ],
      "execution_count": 0,
      "outputs": []
    },
    {
      "cell_type": "code",
      "metadata": {
        "id": "UGoHVhLR7CH6",
        "colab_type": "code",
        "colab": {}
      },
      "source": [
        "# Inheritance\n",
        "# Base Class --(properties)--> Derived class"
      ],
      "execution_count": 0,
      "outputs": []
    },
    {
      "cell_type": "code",
      "metadata": {
        "id": "ltzAy7m17CH-",
        "colab_type": "code",
        "colab": {}
      },
      "source": [
        "class base_class:\n",
        "    def __init__(self, data):\n",
        "        print('base class')\n",
        "        self.data=data\n",
        "        \n",
        "    def func1(self):\n",
        "        print('base class func1')\n",
        "        \n",
        "\n",
        "class child_class(base_class):\n",
        "    def __init__(self, x):\n",
        "        base_class.__init__(self, x)\n",
        "        print(child_class.__name__)\n",
        "        \n",
        "    def func2(self):\n",
        "        return self.data\n"
      ],
      "execution_count": 0,
      "outputs": []
    },
    {
      "cell_type": "code",
      "metadata": {
        "id": "RgbRum7b7CIA",
        "colab_type": "code",
        "colab": {},
        "outputId": "04830963-1f3c-43bd-8532-3c40bc6dffda"
      },
      "source": [
        "obj = child_class(2)"
      ],
      "execution_count": 0,
      "outputs": [
        {
          "output_type": "stream",
          "text": [
            "base class\n",
            "child_class\n"
          ],
          "name": "stdout"
        }
      ]
    },
    {
      "cell_type": "code",
      "metadata": {
        "id": "4fCWP6Gt7CID",
        "colab_type": "code",
        "colab": {},
        "outputId": "108dd896-1240-4c37-f849-1036e9fd3f02"
      },
      "source": [
        "obj.func1()"
      ],
      "execution_count": 0,
      "outputs": [
        {
          "output_type": "stream",
          "text": [
            "base class func1\n"
          ],
          "name": "stdout"
        }
      ]
    },
    {
      "cell_type": "code",
      "metadata": {
        "id": "ZQK0OPf47CIF",
        "colab_type": "code",
        "colab": {},
        "outputId": "6cc21d01-b4d4-4fd9-d3c3-707a71d47500"
      },
      "source": [
        "obj.func2()"
      ],
      "execution_count": 0,
      "outputs": [
        {
          "output_type": "execute_result",
          "data": {
            "text/plain": [
              "2"
            ]
          },
          "metadata": {
            "tags": []
          },
          "execution_count": 4
        }
      ]
    },
    {
      "cell_type": "markdown",
      "metadata": {
        "id": "bZ3JasLB7CII",
        "colab_type": "text"
      },
      "source": [
        "Types of inheritance ->\n",
        "Single, Multiple, Multilevel, Hierarchical "
      ]
    },
    {
      "cell_type": "markdown",
      "metadata": {
        "id": "F5uZBERx7CII",
        "colab_type": "text"
      },
      "source": [
        "Single inheritence : One child and One Parent class.\n",
        "\n",
        "Multiple inheritence: Multiple parent class(more than one) is involved.\n",
        "\n",
        "Multilevel inheritence: a child class is a parent class of another child class.\n",
        "\n",
        "Hierarchical inheritence: more than one type of inheritence coexists together."
      ]
    },
    {
      "cell_type": "code",
      "metadata": {
        "id": "n_teuY3t7CIJ",
        "colab_type": "code",
        "colab": {}
      },
      "source": [
        "# Multiple inheritence:\n",
        "class base_class1:\n",
        "    def func1(self):\n",
        "        print('base1')\n",
        "        \n",
        "class base_class2:\n",
        "    def func2(self):\n",
        "        print('base2')\n",
        "        \n",
        "class child_class(base_class1, base_class2):\n",
        "    def cfunc(self):\n",
        "        print(child_class.__name__)"
      ],
      "execution_count": 0,
      "outputs": []
    },
    {
      "cell_type": "code",
      "metadata": {
        "id": "3Bk1MoC47CIO",
        "colab_type": "code",
        "colab": {},
        "outputId": "3e5af922-4a57-4eaf-dc03-dfac1942087e"
      },
      "source": [
        "c = child_class()\n",
        "c.func1()"
      ],
      "execution_count": 0,
      "outputs": [
        {
          "output_type": "stream",
          "text": [
            "base1\n"
          ],
          "name": "stdout"
        }
      ]
    },
    {
      "cell_type": "code",
      "metadata": {
        "id": "2JsLPECH7CIW",
        "colab_type": "code",
        "colab": {},
        "outputId": "e2972164-58aa-4405-83ac-31ce6a6ae56b"
      },
      "source": [
        "c.func2()"
      ],
      "execution_count": 0,
      "outputs": [
        {
          "output_type": "stream",
          "text": [
            "base2\n"
          ],
          "name": "stdout"
        }
      ]
    },
    {
      "cell_type": "code",
      "metadata": {
        "id": "1uuunxqn7CId",
        "colab_type": "code",
        "colab": {}
      },
      "source": [
        ""
      ],
      "execution_count": 0,
      "outputs": []
    },
    {
      "cell_type": "code",
      "metadata": {
        "id": "AAZDrZN_7CIj",
        "colab_type": "code",
        "colab": {}
      },
      "source": [
        ""
      ],
      "execution_count": 0,
      "outputs": []
    },
    {
      "cell_type": "markdown",
      "metadata": {
        "id": "P02MtNtD7CIt",
        "colab_type": "text"
      },
      "source": [
        "Python Super function : Super function directly calls the parent class method."
      ]
    },
    {
      "cell_type": "code",
      "metadata": {
        "id": "l2SMljcC7CIv",
        "colab_type": "code",
        "colab": {}
      },
      "source": [
        "class base_class1:\n",
        "    def func1(self):\n",
        "        print('base1')\n",
        "            \n",
        "class child_class(base_class1):\n",
        "    def cfunc(self):\n",
        "        super().func1() # Super function\n",
        "        print(child_class.__name__)"
      ],
      "execution_count": 0,
      "outputs": []
    },
    {
      "cell_type": "code",
      "metadata": {
        "id": "dsfRbgsK7CI0",
        "colab_type": "code",
        "colab": {}
      },
      "source": [
        "c = child_class()"
      ],
      "execution_count": 0,
      "outputs": []
    },
    {
      "cell_type": "code",
      "metadata": {
        "id": "g6cmlgRH7CI3",
        "colab_type": "code",
        "colab": {},
        "outputId": "b9e1e1ce-3ac0-4f07-bc34-dd7d2841c2cd"
      },
      "source": [
        "c.cfunc()"
      ],
      "execution_count": 0,
      "outputs": [
        {
          "output_type": "stream",
          "text": [
            "base1\n",
            "child_class\n"
          ],
          "name": "stdout"
        }
      ]
    },
    {
      "cell_type": "code",
      "metadata": {
        "id": "YfNcVyNj7CI-",
        "colab_type": "code",
        "colab": {}
      },
      "source": [
        ""
      ],
      "execution_count": 0,
      "outputs": []
    },
    {
      "cell_type": "markdown",
      "metadata": {
        "id": "NQE3gaRL7CJE",
        "colab_type": "text"
      },
      "source": [
        "Method Overriding: change the functionality of the parent class function"
      ]
    },
    {
      "cell_type": "code",
      "metadata": {
        "id": "V5JyyKfV7CJF",
        "colab_type": "code",
        "colab": {}
      },
      "source": [
        "class base_class1:\n",
        "    def func1(self):\n",
        "        print('base1 fucn1')\n",
        "            \n",
        "class child_class(base_class1):\n",
        "    def func1(self): # over ride the parent class  base_class1 method func1()\n",
        "        print(\"In func1 child class\")"
      ],
      "execution_count": 0,
      "outputs": []
    },
    {
      "cell_type": "code",
      "metadata": {
        "id": "Pm4QcJWI7CJI",
        "colab_type": "code",
        "colab": {}
      },
      "source": [
        "c = child_class()"
      ],
      "execution_count": 0,
      "outputs": []
    },
    {
      "cell_type": "code",
      "metadata": {
        "id": "JG-TgqcJ7CJL",
        "colab_type": "code",
        "colab": {},
        "outputId": "d77c7631-a8d3-41ab-a54e-096258c55552"
      },
      "source": [
        "c.func1()"
      ],
      "execution_count": 0,
      "outputs": [
        {
          "output_type": "stream",
          "text": [
            "In func1 child class\n"
          ],
          "name": "stdout"
        }
      ]
    },
    {
      "cell_type": "code",
      "metadata": {
        "id": "889io3qm7CJP",
        "colab_type": "code",
        "colab": {}
      },
      "source": [
        ""
      ],
      "execution_count": 0,
      "outputs": []
    },
    {
      "cell_type": "markdown",
      "metadata": {
        "id": "gDa2nTNt7CJR",
        "colab_type": "text"
      },
      "source": [
        "List comprehension"
      ]
    },
    {
      "cell_type": "code",
      "metadata": {
        "id": "swBLoHNp7CJS",
        "colab_type": "code",
        "colab": {},
        "outputId": "49f925c3-6993-4e61-ede7-838d1ff026d0"
      },
      "source": [
        "# insted of writing a seperate function we can write for & if inside python list\n",
        "list1=[1,2,4,5,6]\n",
        "\n",
        "# make a new list with values square of list1\n",
        "list2=[x*x for x in list1]\n",
        "list2"
      ],
      "execution_count": 0,
      "outputs": [
        {
          "output_type": "execute_result",
          "data": {
            "text/plain": [
              "[1, 4, 16, 25, 36]"
            ]
          },
          "metadata": {
            "tags": []
          },
          "execution_count": 55
        }
      ]
    },
    {
      "cell_type": "code",
      "metadata": {
        "id": "oZta86mw7CJU",
        "colab_type": "code",
        "colab": {},
        "outputId": "a54de8b5-f29e-49a5-c416-4e1683baa038"
      },
      "source": [
        "# make a new list with values square of list1's even elements\n",
        "list2=[x*x for x in list1 if x%2==0]\n",
        "list2"
      ],
      "execution_count": 0,
      "outputs": [
        {
          "output_type": "execute_result",
          "data": {
            "text/plain": [
              "[4, 16, 36]"
            ]
          },
          "metadata": {
            "tags": []
          },
          "execution_count": 56
        }
      ]
    },
    {
      "cell_type": "code",
      "metadata": {
        "id": "HmMhOEEC7CJW",
        "colab_type": "code",
        "colab": {}
      },
      "source": [
        ""
      ],
      "execution_count": 0,
      "outputs": []
    }
  ]
}